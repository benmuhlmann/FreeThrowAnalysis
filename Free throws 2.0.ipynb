{
 "cells": [
  {
   "cell_type": "markdown",
   "metadata": {},
   "source": [
    "## Exploring the 'Deep Breath' Effect. \n",
    "\n",
    "##### Are players more likely to sink the second free-throw after missing the first? "
   ]
  },
  {
   "cell_type": "markdown",
   "metadata": {},
   "source": [
    "### Start by loading and peeking at the data"
   ]
  },
  {
   "cell_type": "code",
   "execution_count": 3,
   "metadata": {},
   "outputs": [],
   "source": [
    "import pandas as pd #importing pandas. Will be very helpful in cleaning up the data\n",
    "import numpy as np"
   ]
  },
  {
   "cell_type": "code",
   "execution_count": 4,
   "metadata": {},
   "outputs": [],
   "source": [
    "df=pd.read_csv(\"free_throws.csv\") #Loading the data set"
   ]
  },
  {
   "cell_type": "code",
   "execution_count": 5,
   "metadata": {},
   "outputs": [
    {
     "name": "stdout",
     "output_type": "stream",
     "text": [
      "(618019, 11)\n"
     ]
    },
    {
     "data": {
      "text/html": [
       "<div>\n",
       "<style scoped>\n",
       "    .dataframe tbody tr th:only-of-type {\n",
       "        vertical-align: middle;\n",
       "    }\n",
       "\n",
       "    .dataframe tbody tr th {\n",
       "        vertical-align: top;\n",
       "    }\n",
       "\n",
       "    .dataframe thead th {\n",
       "        text-align: right;\n",
       "    }\n",
       "</style>\n",
       "<table border=\"1\" class=\"dataframe\">\n",
       "  <thead>\n",
       "    <tr style=\"text-align: right;\">\n",
       "      <th></th>\n",
       "      <th>end_result</th>\n",
       "      <th>game</th>\n",
       "      <th>game_id</th>\n",
       "      <th>period</th>\n",
       "      <th>play</th>\n",
       "      <th>player</th>\n",
       "      <th>playoffs</th>\n",
       "      <th>score</th>\n",
       "      <th>season</th>\n",
       "      <th>shot_made</th>\n",
       "      <th>time</th>\n",
       "    </tr>\n",
       "  </thead>\n",
       "  <tbody>\n",
       "    <tr>\n",
       "      <th>0</th>\n",
       "      <td>106 - 114</td>\n",
       "      <td>PHX - LAL</td>\n",
       "      <td>261031013.0</td>\n",
       "      <td>1.0</td>\n",
       "      <td>Andrew Bynum makes free throw 1 of 2</td>\n",
       "      <td>Andrew Bynum</td>\n",
       "      <td>regular</td>\n",
       "      <td>0 - 1</td>\n",
       "      <td>2006 - 2007</td>\n",
       "      <td>1</td>\n",
       "      <td>11:45</td>\n",
       "    </tr>\n",
       "    <tr>\n",
       "      <th>1</th>\n",
       "      <td>106 - 114</td>\n",
       "      <td>PHX - LAL</td>\n",
       "      <td>261031013.0</td>\n",
       "      <td>1.0</td>\n",
       "      <td>Andrew Bynum makes free throw 2 of 2</td>\n",
       "      <td>Andrew Bynum</td>\n",
       "      <td>regular</td>\n",
       "      <td>0 - 2</td>\n",
       "      <td>2006 - 2007</td>\n",
       "      <td>1</td>\n",
       "      <td>11:45</td>\n",
       "    </tr>\n",
       "  </tbody>\n",
       "</table>\n",
       "</div>"
      ],
      "text/plain": [
       "  end_result       game      game_id  period  \\\n",
       "0  106 - 114  PHX - LAL  261031013.0     1.0   \n",
       "1  106 - 114  PHX - LAL  261031013.0     1.0   \n",
       "\n",
       "                                   play        player playoffs  score  \\\n",
       "0  Andrew Bynum makes free throw 1 of 2  Andrew Bynum  regular  0 - 1   \n",
       "1  Andrew Bynum makes free throw 2 of 2  Andrew Bynum  regular  0 - 2   \n",
       "\n",
       "        season  shot_made   time  \n",
       "0  2006 - 2007          1  11:45  \n",
       "1  2006 - 2007          1  11:45  "
      ]
     },
     "execution_count": 5,
     "metadata": {},
     "output_type": "execute_result"
    }
   ],
   "source": [
    "print(df.shape) #Dimensions of the dataframe\n",
    "df.head(2) #Let's peek at the data. What exactly are we working with?"
   ]
  },
  {
   "cell_type": "markdown",
   "metadata": {},
   "source": [
    "### Thankfully, all the columns seem pretty self explanatory. The shape function tells us we're dealing with 618,019 free throws. That's a lot of data! Let's keep exploring the data."
   ]
  },
  {
   "cell_type": "code",
   "execution_count": 6,
   "metadata": {},
   "outputs": [
    {
     "data": {
      "text/plain": [
       "time          0\n",
       "shot_made     0\n",
       "season        0\n",
       "score         0\n",
       "playoffs      0\n",
       "player        0\n",
       "play          0\n",
       "period        0\n",
       "game_id       0\n",
       "game          0\n",
       "end_result    0\n",
       "dtype: int64"
      ]
     },
     "execution_count": 6,
     "metadata": {},
     "output_type": "execute_result"
    }
   ],
   "source": [
    "df.isna().sum().sort_values(ascending=False) #see if there's missing data"
   ]
  },
  {
   "cell_type": "markdown",
   "metadata": {},
   "source": [
    "### Wow! No missing data. A true blessing. Let's see if there are free throws from and-ones, technicals, fouls on threes, or flagrants. Removing these and paring the dataframe down to just standard sets of two free-throws will make the analysis easier"
   ]
  },
  {
   "cell_type": "code",
   "execution_count": 7,
   "metadata": {},
   "outputs": [
    {
     "name": "stdout",
     "output_type": "stream",
     "text": [
      "56949\n",
      "13953\n",
      "17183\n",
      "886\n"
     ]
    }
   ],
   "source": [
    "print(sum(df.play.str.contains(\"of 1\")))# sum counts the 'True' booleans. The output is the number of and-ones\n",
    "print(sum(df.play.str.contains(\"of 3\")))\n",
    "print(sum(df.play.str.contains(\"technical\")))\n",
    "print(sum(df.play.str.contains(\"flagrant\")))"
   ]
  },
  {
   "cell_type": "markdown",
   "metadata": {},
   "source": [
    "### Let's get rid of those. "
   ]
  },
  {
   "cell_type": "code",
   "execution_count": 8,
   "metadata": {},
   "outputs": [],
   "source": [
    "pairs=df.loc[df.play.str.contains(\"of 2\")] #removing odd free-throw types\n",
    "pairs=pairs.reset_index(drop=True) #Resetting the index will make things easier\n"
   ]
  },
  {
   "cell_type": "code",
   "execution_count": 9,
   "metadata": {},
   "outputs": [],
   "source": [
    "####This runtime was bad.\n",
    "\n",
    "\n",
    "\n",
    "#counter=0\n",
    "#odd_indeces=[]\n",
    "#i=0\n",
    "#while i<pairs.shape[0]-1:\n",
    "#    if ((pairs.loc[i].player != pairs.loc[i+1].player)& (\"1 of\" in pairs.loc[i].play)):\n",
    "#        counter=counter+1\n",
    "#        odd_indeces.append[i]\n",
    "#        i=i+1\n",
    "        "
   ]
  },
  {
   "cell_type": "code",
   "execution_count": 10,
   "metadata": {},
   "outputs": [],
   "source": [
    "#loop through and make column for first or second free throw. Then loop through that column and make sure it alternates"
   ]
  },
  {
   "cell_type": "code",
   "execution_count": 11,
   "metadata": {},
   "outputs": [],
   "source": [
    "pairs[\"First_Second\"] = np.nan \n",
    "#we've added a column to tell us if its shot 1 or 2, but the values are empty for now. Let's fill those up"
   ]
  },
  {
   "cell_type": "code",
   "execution_count": 12,
   "metadata": {},
   "outputs": [
    {
     "data": {
      "text/html": [
       "<div>\n",
       "<style scoped>\n",
       "    .dataframe tbody tr th:only-of-type {\n",
       "        vertical-align: middle;\n",
       "    }\n",
       "\n",
       "    .dataframe tbody tr th {\n",
       "        vertical-align: top;\n",
       "    }\n",
       "\n",
       "    .dataframe thead th {\n",
       "        text-align: right;\n",
       "    }\n",
       "</style>\n",
       "<table border=\"1\" class=\"dataframe\">\n",
       "  <thead>\n",
       "    <tr style=\"text-align: right;\">\n",
       "      <th></th>\n",
       "      <th>end_result</th>\n",
       "      <th>game</th>\n",
       "      <th>game_id</th>\n",
       "      <th>period</th>\n",
       "      <th>play</th>\n",
       "      <th>player</th>\n",
       "      <th>playoffs</th>\n",
       "      <th>score</th>\n",
       "      <th>season</th>\n",
       "      <th>shot_made</th>\n",
       "      <th>time</th>\n",
       "      <th>First_Second</th>\n",
       "    </tr>\n",
       "  </thead>\n",
       "  <tbody>\n",
       "    <tr>\n",
       "      <th>0</th>\n",
       "      <td>106 - 114</td>\n",
       "      <td>PHX - LAL</td>\n",
       "      <td>261031013.0</td>\n",
       "      <td>1.0</td>\n",
       "      <td>Andrew Bynum makes free throw 1 of 2</td>\n",
       "      <td>Andrew Bynum</td>\n",
       "      <td>regular</td>\n",
       "      <td>0 - 1</td>\n",
       "      <td>2006 - 2007</td>\n",
       "      <td>1</td>\n",
       "      <td>11:45</td>\n",
       "      <td>NaN</td>\n",
       "    </tr>\n",
       "    <tr>\n",
       "      <th>1</th>\n",
       "      <td>106 - 114</td>\n",
       "      <td>PHX - LAL</td>\n",
       "      <td>261031013.0</td>\n",
       "      <td>1.0</td>\n",
       "      <td>Andrew Bynum makes free throw 2 of 2</td>\n",
       "      <td>Andrew Bynum</td>\n",
       "      <td>regular</td>\n",
       "      <td>0 - 2</td>\n",
       "      <td>2006 - 2007</td>\n",
       "      <td>1</td>\n",
       "      <td>11:45</td>\n",
       "      <td>NaN</td>\n",
       "    </tr>\n",
       "    <tr>\n",
       "      <th>2</th>\n",
       "      <td>106 - 114</td>\n",
       "      <td>PHX - LAL</td>\n",
       "      <td>261031013.0</td>\n",
       "      <td>1.0</td>\n",
       "      <td>Andrew Bynum makes free throw 1 of 2</td>\n",
       "      <td>Andrew Bynum</td>\n",
       "      <td>regular</td>\n",
       "      <td>18 - 12</td>\n",
       "      <td>2006 - 2007</td>\n",
       "      <td>1</td>\n",
       "      <td>7:26</td>\n",
       "      <td>NaN</td>\n",
       "    </tr>\n",
       "    <tr>\n",
       "      <th>3</th>\n",
       "      <td>106 - 114</td>\n",
       "      <td>PHX - LAL</td>\n",
       "      <td>261031013.0</td>\n",
       "      <td>1.0</td>\n",
       "      <td>Andrew Bynum misses free throw 2 of 2</td>\n",
       "      <td>Andrew Bynum</td>\n",
       "      <td>regular</td>\n",
       "      <td>18 - 12</td>\n",
       "      <td>2006 - 2007</td>\n",
       "      <td>0</td>\n",
       "      <td>7:26</td>\n",
       "      <td>NaN</td>\n",
       "    </tr>\n",
       "    <tr>\n",
       "      <th>4</th>\n",
       "      <td>106 - 114</td>\n",
       "      <td>PHX - LAL</td>\n",
       "      <td>261031013.0</td>\n",
       "      <td>1.0</td>\n",
       "      <td>Amare Stoudemire makes free throw 1 of 2</td>\n",
       "      <td>Amare Stoudemire</td>\n",
       "      <td>regular</td>\n",
       "      <td>33 - 20</td>\n",
       "      <td>2006 - 2007</td>\n",
       "      <td>1</td>\n",
       "      <td>3:15</td>\n",
       "      <td>NaN</td>\n",
       "    </tr>\n",
       "  </tbody>\n",
       "</table>\n",
       "</div>"
      ],
      "text/plain": [
       "  end_result       game      game_id  period  \\\n",
       "0  106 - 114  PHX - LAL  261031013.0     1.0   \n",
       "1  106 - 114  PHX - LAL  261031013.0     1.0   \n",
       "2  106 - 114  PHX - LAL  261031013.0     1.0   \n",
       "3  106 - 114  PHX - LAL  261031013.0     1.0   \n",
       "4  106 - 114  PHX - LAL  261031013.0     1.0   \n",
       "\n",
       "                                       play            player playoffs  \\\n",
       "0      Andrew Bynum makes free throw 1 of 2      Andrew Bynum  regular   \n",
       "1      Andrew Bynum makes free throw 2 of 2      Andrew Bynum  regular   \n",
       "2      Andrew Bynum makes free throw 1 of 2      Andrew Bynum  regular   \n",
       "3     Andrew Bynum misses free throw 2 of 2      Andrew Bynum  regular   \n",
       "4  Amare Stoudemire makes free throw 1 of 2  Amare Stoudemire  regular   \n",
       "\n",
       "     score       season  shot_made   time  First_Second  \n",
       "0    0 - 1  2006 - 2007          1  11:45           NaN  \n",
       "1    0 - 2  2006 - 2007          1  11:45           NaN  \n",
       "2  18 - 12  2006 - 2007          1   7:26           NaN  \n",
       "3  18 - 12  2006 - 2007          0   7:26           NaN  \n",
       "4  33 - 20  2006 - 2007          1   3:15           NaN  "
      ]
     },
     "execution_count": 12,
     "metadata": {},
     "output_type": "execute_result"
    }
   ],
   "source": [
    "pairs.head()"
   ]
  },
  {
   "cell_type": "code",
   "execution_count": 13,
   "metadata": {},
   "outputs": [
    {
     "data": {
      "text/plain": [
       "'2'"
      ]
     },
     "execution_count": 13,
     "metadata": {},
     "output_type": "execute_result"
    }
   ],
   "source": [
    "pairs.at[3,'First_Second']\n",
    "pairs.at[1,'play'][-6]"
   ]
  },
  {
   "cell_type": "code",
   "execution_count": 14,
   "metadata": {},
   "outputs": [],
   "source": [
    "for x in range(0, pairs.shape[0]):\n",
    "    if pairs.at[x,'play'][-6]=='2':\n",
    "        pairs.at[x,'First_Second']=2\n",
    "    elif pairs.at[x,'play'][-6]=='1':\n",
    "        pairs.at[x,'First_Second']=1"
   ]
  },
  {
   "cell_type": "code",
   "execution_count": 15,
   "metadata": {},
   "outputs": [
    {
     "data": {
      "text/html": [
       "<div>\n",
       "<style scoped>\n",
       "    .dataframe tbody tr th:only-of-type {\n",
       "        vertical-align: middle;\n",
       "    }\n",
       "\n",
       "    .dataframe tbody tr th {\n",
       "        vertical-align: top;\n",
       "    }\n",
       "\n",
       "    .dataframe thead th {\n",
       "        text-align: right;\n",
       "    }\n",
       "</style>\n",
       "<table border=\"1\" class=\"dataframe\">\n",
       "  <thead>\n",
       "    <tr style=\"text-align: right;\">\n",
       "      <th></th>\n",
       "      <th>end_result</th>\n",
       "      <th>game</th>\n",
       "      <th>game_id</th>\n",
       "      <th>period</th>\n",
       "      <th>play</th>\n",
       "      <th>player</th>\n",
       "      <th>playoffs</th>\n",
       "      <th>score</th>\n",
       "      <th>season</th>\n",
       "      <th>shot_made</th>\n",
       "      <th>time</th>\n",
       "      <th>First_Second</th>\n",
       "    </tr>\n",
       "  </thead>\n",
       "  <tbody>\n",
       "    <tr>\n",
       "      <th>0</th>\n",
       "      <td>106 - 114</td>\n",
       "      <td>PHX - LAL</td>\n",
       "      <td>261031013.0</td>\n",
       "      <td>1.0</td>\n",
       "      <td>Andrew Bynum makes free throw 1 of 2</td>\n",
       "      <td>Andrew Bynum</td>\n",
       "      <td>regular</td>\n",
       "      <td>0 - 1</td>\n",
       "      <td>2006 - 2007</td>\n",
       "      <td>1</td>\n",
       "      <td>11:45</td>\n",
       "      <td>1.0</td>\n",
       "    </tr>\n",
       "    <tr>\n",
       "      <th>1</th>\n",
       "      <td>106 - 114</td>\n",
       "      <td>PHX - LAL</td>\n",
       "      <td>261031013.0</td>\n",
       "      <td>1.0</td>\n",
       "      <td>Andrew Bynum makes free throw 2 of 2</td>\n",
       "      <td>Andrew Bynum</td>\n",
       "      <td>regular</td>\n",
       "      <td>0 - 2</td>\n",
       "      <td>2006 - 2007</td>\n",
       "      <td>1</td>\n",
       "      <td>11:45</td>\n",
       "      <td>2.0</td>\n",
       "    </tr>\n",
       "    <tr>\n",
       "      <th>2</th>\n",
       "      <td>106 - 114</td>\n",
       "      <td>PHX - LAL</td>\n",
       "      <td>261031013.0</td>\n",
       "      <td>1.0</td>\n",
       "      <td>Andrew Bynum makes free throw 1 of 2</td>\n",
       "      <td>Andrew Bynum</td>\n",
       "      <td>regular</td>\n",
       "      <td>18 - 12</td>\n",
       "      <td>2006 - 2007</td>\n",
       "      <td>1</td>\n",
       "      <td>7:26</td>\n",
       "      <td>1.0</td>\n",
       "    </tr>\n",
       "    <tr>\n",
       "      <th>3</th>\n",
       "      <td>106 - 114</td>\n",
       "      <td>PHX - LAL</td>\n",
       "      <td>261031013.0</td>\n",
       "      <td>1.0</td>\n",
       "      <td>Andrew Bynum misses free throw 2 of 2</td>\n",
       "      <td>Andrew Bynum</td>\n",
       "      <td>regular</td>\n",
       "      <td>18 - 12</td>\n",
       "      <td>2006 - 2007</td>\n",
       "      <td>0</td>\n",
       "      <td>7:26</td>\n",
       "      <td>2.0</td>\n",
       "    </tr>\n",
       "    <tr>\n",
       "      <th>4</th>\n",
       "      <td>106 - 114</td>\n",
       "      <td>PHX - LAL</td>\n",
       "      <td>261031013.0</td>\n",
       "      <td>1.0</td>\n",
       "      <td>Amare Stoudemire makes free throw 1 of 2</td>\n",
       "      <td>Amare Stoudemire</td>\n",
       "      <td>regular</td>\n",
       "      <td>33 - 20</td>\n",
       "      <td>2006 - 2007</td>\n",
       "      <td>1</td>\n",
       "      <td>3:15</td>\n",
       "      <td>1.0</td>\n",
       "    </tr>\n",
       "  </tbody>\n",
       "</table>\n",
       "</div>"
      ],
      "text/plain": [
       "  end_result       game      game_id  period  \\\n",
       "0  106 - 114  PHX - LAL  261031013.0     1.0   \n",
       "1  106 - 114  PHX - LAL  261031013.0     1.0   \n",
       "2  106 - 114  PHX - LAL  261031013.0     1.0   \n",
       "3  106 - 114  PHX - LAL  261031013.0     1.0   \n",
       "4  106 - 114  PHX - LAL  261031013.0     1.0   \n",
       "\n",
       "                                       play            player playoffs  \\\n",
       "0      Andrew Bynum makes free throw 1 of 2      Andrew Bynum  regular   \n",
       "1      Andrew Bynum makes free throw 2 of 2      Andrew Bynum  regular   \n",
       "2      Andrew Bynum makes free throw 1 of 2      Andrew Bynum  regular   \n",
       "3     Andrew Bynum misses free throw 2 of 2      Andrew Bynum  regular   \n",
       "4  Amare Stoudemire makes free throw 1 of 2  Amare Stoudemire  regular   \n",
       "\n",
       "     score       season  shot_made   time  First_Second  \n",
       "0    0 - 1  2006 - 2007          1  11:45           1.0  \n",
       "1    0 - 2  2006 - 2007          1  11:45           2.0  \n",
       "2  18 - 12  2006 - 2007          1   7:26           1.0  \n",
       "3  18 - 12  2006 - 2007          0   7:26           2.0  \n",
       "4  33 - 20  2006 - 2007          1   3:15           1.0  "
      ]
     },
     "execution_count": 15,
     "metadata": {},
     "output_type": "execute_result"
    }
   ],
   "source": [
    "pairs.head()"
   ]
  },
  {
   "cell_type": "code",
   "execution_count": 16,
   "metadata": {},
   "outputs": [
    {
     "name": "stdout",
     "output_type": "stream",
     "text": [
      "528568\n",
      "528566\n"
     ]
    },
    {
     "data": {
      "text/plain": [
       "[322620, 368621]"
      ]
     },
     "execution_count": 16,
     "metadata": {},
     "output_type": "execute_result"
    }
   ],
   "source": [
    "#Redo later with one counter \n",
    "First_counter=0\n",
    "Second_counter=0\n",
    "bad_indeces=[]\n",
    "print(pairs.shape[0])\n",
    "for x in range(0,pairs.shape[0]):\n",
    "    if pairs.at[x,'First_Second']==1:\n",
    "        First_counter=First_counter+1\n",
    "    elif pairs.at[x,'First_Second']==2:\n",
    "        Second_counter=Second_counter+1\n",
    "    else:bad_indeces.append(x)   \n",
    "print(First_counter+Second_counter)\n",
    "bad_indeces"
   ]
  },
  {
   "cell_type": "code",
   "execution_count": 17,
   "metadata": {},
   "outputs": [
    {
     "name": "stdout",
     "output_type": "stream",
     "text": [
      "                                                     play\n",
      "322619                   Ed Davis makes free throw 1 of 2\n",
      "322620  Ed Davis makes free throw 2 of 2. Kris Humphri...\n",
      "322621                Brook Lopez makes free throw 1 of 2\n",
      "\n",
      "\n",
      "                                            play\n",
      "368620  Brandon Jennings makes free throw 2 of 2\n",
      "368621    Shane Battier makes 2 of 2 free throws\n",
      "368622       Monta Ellis makes free throw 1 of 2\n"
     ]
    }
   ],
   "source": [
    "print(pairs.loc[322619:322621].play.to_frame())\n",
    "print('\\n')\n",
    "print(pairs.loc[368620:368622].play.to_frame())\n"
   ]
  },
  {
   "cell_type": "markdown",
   "metadata": {},
   "source": [
    "### Looks like there's a substitution in 322620. We can fix that. 368621 has both free throws in one row. We'll just get rid of that."
   ]
  },
  {
   "cell_type": "code",
   "execution_count": 18,
   "metadata": {},
   "outputs": [
    {
     "data": {
      "text/html": [
       "<div>\n",
       "<style scoped>\n",
       "    .dataframe tbody tr th:only-of-type {\n",
       "        vertical-align: middle;\n",
       "    }\n",
       "\n",
       "    .dataframe tbody tr th {\n",
       "        vertical-align: top;\n",
       "    }\n",
       "\n",
       "    .dataframe thead th {\n",
       "        text-align: right;\n",
       "    }\n",
       "</style>\n",
       "<table border=\"1\" class=\"dataframe\">\n",
       "  <thead>\n",
       "    <tr style=\"text-align: right;\">\n",
       "      <th></th>\n",
       "      <th>end_result</th>\n",
       "      <th>game</th>\n",
       "      <th>game_id</th>\n",
       "      <th>period</th>\n",
       "      <th>play</th>\n",
       "      <th>player</th>\n",
       "      <th>playoffs</th>\n",
       "      <th>score</th>\n",
       "      <th>season</th>\n",
       "      <th>shot_made</th>\n",
       "      <th>time</th>\n",
       "      <th>First_Second</th>\n",
       "    </tr>\n",
       "  </thead>\n",
       "  <tbody>\n",
       "    <tr>\n",
       "      <th>322620</th>\n",
       "      <td>100 - 107</td>\n",
       "      <td>TOR - BKN</td>\n",
       "      <td>4.00278e+08</td>\n",
       "      <td>4</td>\n",
       "      <td>Ed Davis makes free throw 2 of 2</td>\n",
       "      <td>Ed Davis</td>\n",
       "      <td>regular</td>\n",
       "      <td>81 - 84</td>\n",
       "      <td>2012 - 2013</td>\n",
       "      <td>1</td>\n",
       "      <td>10:27</td>\n",
       "      <td>2</td>\n",
       "    </tr>\n",
       "  </tbody>\n",
       "</table>\n",
       "</div>"
      ],
      "text/plain": [
       "       end_result       game      game_id period  \\\n",
       "322620  100 - 107  TOR - BKN  4.00278e+08      4   \n",
       "\n",
       "                                    play    player playoffs    score  \\\n",
       "322620  Ed Davis makes free throw 2 of 2  Ed Davis  regular  81 - 84   \n",
       "\n",
       "             season shot_made   time First_Second  \n",
       "322620  2012 - 2013         1  10:27            2  "
      ]
     },
     "execution_count": 18,
     "metadata": {},
     "output_type": "execute_result"
    }
   ],
   "source": [
    "pairs.at[322620,'play']=pairs.at[322620,'play'][0:32] #Only keep the part of the play that has to do with the free throw\n",
    "pairs.at[322620,'First_Second']=2 #Manually reformat the First_Second Column so we know it was a second shot\n",
    "pairs.loc[322620].to_frame().transpose()  #looks good!"
   ]
  },
  {
   "cell_type": "code",
   "execution_count": 19,
   "metadata": {},
   "outputs": [
    {
     "name": "stdout",
     "output_type": "stream",
     "text": [
      "368620    Brandon Jennings makes free throw 2 of 2\n",
      "368621      Shane Battier makes 2 of 2 free throws\n",
      "368622         Monta Ellis makes free throw 1 of 2\n",
      "Name: play, dtype: object\n",
      "368620    Brandon Jennings makes free throw 2 of 2\n",
      "368621         Monta Ellis makes free throw 1 of 2\n",
      "368622        Monta Ellis misses free throw 2 of 2\n",
      "Name: play, dtype: object\n"
     ]
    }
   ],
   "source": [
    "print(pairs.loc[368620:368622].play)\n",
    "pairs=pairs.drop(368621)\n",
    "pairs=pairs.reset_index(drop=True)\n",
    "print(pairs.loc[368620:368622].play) #All gone"
   ]
  },
  {
   "cell_type": "code",
   "execution_count": 20,
   "metadata": {},
   "outputs": [
    {
     "name": "stdout",
     "output_type": "stream",
     "text": [
      "528567\n",
      "528567\n"
     ]
    }
   ],
   "source": [
    "First_counter=0\n",
    "Second_counter=0\n",
    "bad_indeces=[]\n",
    "print(pairs.shape[0])\n",
    "for x in range(0,pairs.shape[0]):\n",
    "    if pairs.at[x,'First_Second']==1:\n",
    "        First_counter=First_counter+1\n",
    "    elif pairs.at[x,'First_Second']==2:\n",
    "        Second_counter=Second_counter+1\n",
    "    else:bad_indeces.append(x)   \n",
    "print(First_counter+Second_counter)"
   ]
  },
  {
   "cell_type": "markdown",
   "metadata": {},
   "source": [
    "### Now let's make sure the rest of the data is clean. We want to check if there are any other standalone free-throws"
   ]
  },
  {
   "cell_type": "code",
   "execution_count": 21,
   "metadata": {},
   "outputs": [],
   "source": [
    "counter=0\n",
    "bad_indeces=[]\n",
    "for x in range(0,pairs.shape[0]-1):\n",
    "    if(pairs.at[x,'First_Second']==pairs.at[x+1,'First_Second']):\n",
    "        counter=counter+1\n",
    "        bad_indeces.append(x)\n",
    "        "
   ]
  },
  {
   "cell_type": "code",
   "execution_count": 22,
   "metadata": {},
   "outputs": [
    {
     "data": {
      "text/plain": [
       "[337, 660, 721, 774, 1098, 1367, 1385]"
      ]
     },
     "execution_count": 22,
     "metadata": {},
     "output_type": "execute_result"
    }
   ],
   "source": [
    "bad_indeces[0:7]"
   ]
  },
  {
   "cell_type": "code",
   "execution_count": 23,
   "metadata": {},
   "outputs": [
    {
     "data": {
      "text/plain": [
       "1495"
      ]
     },
     "execution_count": 23,
     "metadata": {},
     "output_type": "execute_result"
    }
   ],
   "source": [
    "counter"
   ]
  },
  {
   "cell_type": "code",
   "execution_count": 24,
   "metadata": {},
   "outputs": [
    {
     "data": {
      "text/html": [
       "<div>\n",
       "<style scoped>\n",
       "    .dataframe tbody tr th:only-of-type {\n",
       "        vertical-align: middle;\n",
       "    }\n",
       "\n",
       "    .dataframe tbody tr th {\n",
       "        vertical-align: top;\n",
       "    }\n",
       "\n",
       "    .dataframe thead th {\n",
       "        text-align: right;\n",
       "    }\n",
       "</style>\n",
       "<table border=\"1\" class=\"dataframe\">\n",
       "  <thead>\n",
       "    <tr style=\"text-align: right;\">\n",
       "      <th></th>\n",
       "      <th>end_result</th>\n",
       "      <th>game</th>\n",
       "      <th>game_id</th>\n",
       "      <th>period</th>\n",
       "      <th>play</th>\n",
       "      <th>player</th>\n",
       "      <th>playoffs</th>\n",
       "      <th>score</th>\n",
       "      <th>season</th>\n",
       "      <th>shot_made</th>\n",
       "      <th>time</th>\n",
       "      <th>First_Second</th>\n",
       "    </tr>\n",
       "  </thead>\n",
       "  <tbody>\n",
       "    <tr>\n",
       "      <th>1366</th>\n",
       "      <td>88 - 81</td>\n",
       "      <td>CLE - SA</td>\n",
       "      <td>261103024.0</td>\n",
       "      <td>1.0</td>\n",
       "      <td>Tim Duncan misses free throw 2 of 2</td>\n",
       "      <td>Tim Duncan</td>\n",
       "      <td>regular</td>\n",
       "      <td>16 - 14</td>\n",
       "      <td>2006 - 2007</td>\n",
       "      <td>0</td>\n",
       "      <td>3:18</td>\n",
       "      <td>2.0</td>\n",
       "    </tr>\n",
       "    <tr>\n",
       "      <th>1367</th>\n",
       "      <td>88 - 81</td>\n",
       "      <td>CLE - SA</td>\n",
       "      <td>261103024.0</td>\n",
       "      <td>1.0</td>\n",
       "      <td>LeBron James makes free throw 1 of 2</td>\n",
       "      <td>LeBron James</td>\n",
       "      <td>regular</td>\n",
       "      <td>22 - 18</td>\n",
       "      <td>2006 - 2007</td>\n",
       "      <td>1</td>\n",
       "      <td>0:44</td>\n",
       "      <td>1.0</td>\n",
       "    </tr>\n",
       "    <tr>\n",
       "      <th>1368</th>\n",
       "      <td>88 - 81</td>\n",
       "      <td>CLE - SA</td>\n",
       "      <td>261103024.0</td>\n",
       "      <td>1.0</td>\n",
       "      <td>LeBron James makes free throw 1 of 2</td>\n",
       "      <td>LeBron James</td>\n",
       "      <td>regular</td>\n",
       "      <td>23 - 18</td>\n",
       "      <td>2006 - 2007</td>\n",
       "      <td>1</td>\n",
       "      <td>0:24</td>\n",
       "      <td>1.0</td>\n",
       "    </tr>\n",
       "    <tr>\n",
       "      <th>1369</th>\n",
       "      <td>88 - 81</td>\n",
       "      <td>CLE - SA</td>\n",
       "      <td>261103024.0</td>\n",
       "      <td>1.0</td>\n",
       "      <td>LeBron James misses free throw 2 of 2</td>\n",
       "      <td>LeBron James</td>\n",
       "      <td>regular</td>\n",
       "      <td>23 - 18</td>\n",
       "      <td>2006 - 2007</td>\n",
       "      <td>0</td>\n",
       "      <td>0:24</td>\n",
       "      <td>2.0</td>\n",
       "    </tr>\n",
       "  </tbody>\n",
       "</table>\n",
       "</div>"
      ],
      "text/plain": [
       "     end_result      game      game_id  period  \\\n",
       "1366    88 - 81  CLE - SA  261103024.0     1.0   \n",
       "1367    88 - 81  CLE - SA  261103024.0     1.0   \n",
       "1368    88 - 81  CLE - SA  261103024.0     1.0   \n",
       "1369    88 - 81  CLE - SA  261103024.0     1.0   \n",
       "\n",
       "                                       play        player playoffs    score  \\\n",
       "1366    Tim Duncan misses free throw 2 of 2    Tim Duncan  regular  16 - 14   \n",
       "1367   LeBron James makes free throw 1 of 2  LeBron James  regular  22 - 18   \n",
       "1368   LeBron James makes free throw 1 of 2  LeBron James  regular  23 - 18   \n",
       "1369  LeBron James misses free throw 2 of 2  LeBron James  regular  23 - 18   \n",
       "\n",
       "           season  shot_made  time  First_Second  \n",
       "1366  2006 - 2007          0  3:18           2.0  \n",
       "1367  2006 - 2007          1  0:44           1.0  \n",
       "1368  2006 - 2007          1  0:24           1.0  \n",
       "1369  2006 - 2007          0  0:24           2.0  "
      ]
     },
     "execution_count": 24,
     "metadata": {},
     "output_type": "execute_result"
    }
   ],
   "source": [
    "pairs.loc[1366:1369]"
   ]
  },
  {
   "cell_type": "code",
   "execution_count": 25,
   "metadata": {},
   "outputs": [
    {
     "name": "stdout",
     "output_type": "stream",
     "text": [
      "[12795, 13547, 13641, 13930, 14315]\n"
     ]
    },
    {
     "data": {
      "text/html": [
       "<div>\n",
       "<style scoped>\n",
       "    .dataframe tbody tr th:only-of-type {\n",
       "        vertical-align: middle;\n",
       "    }\n",
       "\n",
       "    .dataframe tbody tr th {\n",
       "        vertical-align: top;\n",
       "    }\n",
       "\n",
       "    .dataframe thead th {\n",
       "        text-align: right;\n",
       "    }\n",
       "</style>\n",
       "<table border=\"1\" class=\"dataframe\">\n",
       "  <thead>\n",
       "    <tr style=\"text-align: right;\">\n",
       "      <th></th>\n",
       "      <th>end_result</th>\n",
       "      <th>game</th>\n",
       "      <th>game_id</th>\n",
       "      <th>period</th>\n",
       "      <th>play</th>\n",
       "      <th>player</th>\n",
       "      <th>playoffs</th>\n",
       "      <th>score</th>\n",
       "      <th>season</th>\n",
       "      <th>shot_made</th>\n",
       "      <th>time</th>\n",
       "      <th>First_Second</th>\n",
       "    </tr>\n",
       "  </thead>\n",
       "  <tbody>\n",
       "    <tr>\n",
       "      <th>13546</th>\n",
       "      <td>79 - 101</td>\n",
       "      <td>DAL - UTAH</td>\n",
       "      <td>261211026.0</td>\n",
       "      <td>4.0</td>\n",
       "      <td>Maurice Ager misses free throw 2 of 2</td>\n",
       "      <td>Maurice Ager</td>\n",
       "      <td>regular</td>\n",
       "      <td>75 - 97</td>\n",
       "      <td>2006 - 2007</td>\n",
       "      <td>0</td>\n",
       "      <td>2:17</td>\n",
       "      <td>2.0</td>\n",
       "    </tr>\n",
       "    <tr>\n",
       "      <th>13547</th>\n",
       "      <td>79 - 101</td>\n",
       "      <td>DAL - UTAH</td>\n",
       "      <td>261211026.0</td>\n",
       "      <td>4.0</td>\n",
       "      <td>Devean George makes free throw 1 of 2</td>\n",
       "      <td>Devean George</td>\n",
       "      <td>regular</td>\n",
       "      <td>76 - 97</td>\n",
       "      <td>2006 - 2007</td>\n",
       "      <td>1</td>\n",
       "      <td>2:01</td>\n",
       "      <td>1.0</td>\n",
       "    </tr>\n",
       "    <tr>\n",
       "      <th>13548</th>\n",
       "      <td>79 - 101</td>\n",
       "      <td>DAL - UTAH</td>\n",
       "      <td>261211026.0</td>\n",
       "      <td>4.0</td>\n",
       "      <td>Maurice Ager misses free throw 1 of 2</td>\n",
       "      <td>Maurice Ager</td>\n",
       "      <td>regular</td>\n",
       "      <td>78 - 99</td>\n",
       "      <td>2006 - 2007</td>\n",
       "      <td>0</td>\n",
       "      <td>0:38</td>\n",
       "      <td>1.0</td>\n",
       "    </tr>\n",
       "    <tr>\n",
       "      <th>13549</th>\n",
       "      <td>79 - 101</td>\n",
       "      <td>DAL - UTAH</td>\n",
       "      <td>261211026.0</td>\n",
       "      <td>4.0</td>\n",
       "      <td>Maurice Ager makes free throw 2 of 2</td>\n",
       "      <td>Maurice Ager</td>\n",
       "      <td>regular</td>\n",
       "      <td>79 - 99</td>\n",
       "      <td>2006 - 2007</td>\n",
       "      <td>1</td>\n",
       "      <td>0:38</td>\n",
       "      <td>2.0</td>\n",
       "    </tr>\n",
       "  </tbody>\n",
       "</table>\n",
       "</div>"
      ],
      "text/plain": [
       "      end_result        game      game_id  period  \\\n",
       "13546   79 - 101  DAL - UTAH  261211026.0     4.0   \n",
       "13547   79 - 101  DAL - UTAH  261211026.0     4.0   \n",
       "13548   79 - 101  DAL - UTAH  261211026.0     4.0   \n",
       "13549   79 - 101  DAL - UTAH  261211026.0     4.0   \n",
       "\n",
       "                                        play         player playoffs    score  \\\n",
       "13546  Maurice Ager misses free throw 2 of 2   Maurice Ager  regular  75 - 97   \n",
       "13547  Devean George makes free throw 1 of 2  Devean George  regular  76 - 97   \n",
       "13548  Maurice Ager misses free throw 1 of 2   Maurice Ager  regular  78 - 99   \n",
       "13549   Maurice Ager makes free throw 2 of 2   Maurice Ager  regular  79 - 99   \n",
       "\n",
       "            season  shot_made  time  First_Second  \n",
       "13546  2006 - 2007          0  2:17           2.0  \n",
       "13547  2006 - 2007          1  2:01           1.0  \n",
       "13548  2006 - 2007          0  0:38           1.0  \n",
       "13549  2006 - 2007          1  0:38           2.0  "
      ]
     },
     "execution_count": 25,
     "metadata": {},
     "output_type": "execute_result"
    }
   ],
   "source": [
    "print(bad_indeces[50:55])\n",
    "pairs.loc[13546:13549]"
   ]
  },
  {
   "cell_type": "code",
   "execution_count": 26,
   "metadata": {},
   "outputs": [
    {
     "data": {
      "text/html": [
       "<div>\n",
       "<style scoped>\n",
       "    .dataframe tbody tr th:only-of-type {\n",
       "        vertical-align: middle;\n",
       "    }\n",
       "\n",
       "    .dataframe tbody tr th {\n",
       "        vertical-align: top;\n",
       "    }\n",
       "\n",
       "    .dataframe thead th {\n",
       "        text-align: right;\n",
       "    }\n",
       "</style>\n",
       "<table border=\"1\" class=\"dataframe\">\n",
       "  <thead>\n",
       "    <tr style=\"text-align: right;\">\n",
       "      <th></th>\n",
       "      <th>end_result</th>\n",
       "      <th>game</th>\n",
       "      <th>game_id</th>\n",
       "      <th>period</th>\n",
       "      <th>play</th>\n",
       "      <th>player</th>\n",
       "      <th>playoffs</th>\n",
       "      <th>score</th>\n",
       "      <th>season</th>\n",
       "      <th>shot_made</th>\n",
       "      <th>time</th>\n",
       "      <th>First_Second</th>\n",
       "    </tr>\n",
       "  </thead>\n",
       "  <tbody>\n",
       "    <tr>\n",
       "      <th>337</th>\n",
       "      <td>92 - 102</td>\n",
       "      <td>TOR - NJ</td>\n",
       "      <td>261101017.0</td>\n",
       "      <td>1.0</td>\n",
       "      <td>Bostjan Nachbar makes free throw 2 of 2</td>\n",
       "      <td>Bostjan Nachbar</td>\n",
       "      <td>regular</td>\n",
       "      <td>16 - 18</td>\n",
       "      <td>2006 - 2007</td>\n",
       "      <td>1</td>\n",
       "      <td>4:16</td>\n",
       "      <td>2.0</td>\n",
       "    </tr>\n",
       "    <tr>\n",
       "      <th>660</th>\n",
       "      <td>118 - 117</td>\n",
       "      <td>NY - MEM</td>\n",
       "      <td>261101029.0</td>\n",
       "      <td>4.0</td>\n",
       "      <td>Jamal Crawford makes free throw 2 of 2</td>\n",
       "      <td>Jamal Crawford</td>\n",
       "      <td>regular</td>\n",
       "      <td>78 - 63</td>\n",
       "      <td>2006 - 2007</td>\n",
       "      <td>1</td>\n",
       "      <td>10:30</td>\n",
       "      <td>2.0</td>\n",
       "    </tr>\n",
       "    <tr>\n",
       "      <th>721</th>\n",
       "      <td>106 - 99</td>\n",
       "      <td>IND - CHA</td>\n",
       "      <td>261101030.0</td>\n",
       "      <td>2.0</td>\n",
       "      <td>Othella Harrington misses free throw 2 of 2</td>\n",
       "      <td>Othella Harrington</td>\n",
       "      <td>regular</td>\n",
       "      <td>37 - 42</td>\n",
       "      <td>2006 - 2007</td>\n",
       "      <td>0</td>\n",
       "      <td>4:24</td>\n",
       "      <td>2.0</td>\n",
       "    </tr>\n",
       "    <tr>\n",
       "      <th>774</th>\n",
       "      <td>97 - 91</td>\n",
       "      <td>SA - DAL</td>\n",
       "      <td>261102006.0</td>\n",
       "      <td>2.0</td>\n",
       "      <td>Dirk Nowitzki misses free throw 2 of 2</td>\n",
       "      <td>Dirk Nowitzki</td>\n",
       "      <td>regular</td>\n",
       "      <td>34 - 41</td>\n",
       "      <td>2006 - 2007</td>\n",
       "      <td>0</td>\n",
       "      <td>7:00</td>\n",
       "      <td>2.0</td>\n",
       "    </tr>\n",
       "    <tr>\n",
       "      <th>1098</th>\n",
       "      <td>89 - 102</td>\n",
       "      <td>POR - GS</td>\n",
       "      <td>261103009.0</td>\n",
       "      <td>3.0</td>\n",
       "      <td>Andris Biedrins misses free throw 1 of 2</td>\n",
       "      <td>Andris Biedrins</td>\n",
       "      <td>regular</td>\n",
       "      <td>60 - 70</td>\n",
       "      <td>2006 - 2007</td>\n",
       "      <td>0</td>\n",
       "      <td>1:07</td>\n",
       "      <td>1.0</td>\n",
       "    </tr>\n",
       "    <tr>\n",
       "      <th>1367</th>\n",
       "      <td>88 - 81</td>\n",
       "      <td>CLE - SA</td>\n",
       "      <td>261103024.0</td>\n",
       "      <td>1.0</td>\n",
       "      <td>LeBron James makes free throw 1 of 2</td>\n",
       "      <td>LeBron James</td>\n",
       "      <td>regular</td>\n",
       "      <td>22 - 18</td>\n",
       "      <td>2006 - 2007</td>\n",
       "      <td>1</td>\n",
       "      <td>0:44</td>\n",
       "      <td>1.0</td>\n",
       "    </tr>\n",
       "    <tr>\n",
       "      <th>1385</th>\n",
       "      <td>88 - 81</td>\n",
       "      <td>CLE - SA</td>\n",
       "      <td>261103024.0</td>\n",
       "      <td>3.0</td>\n",
       "      <td>Tony Parker makes free throw 2 of 2</td>\n",
       "      <td>Tony Parker</td>\n",
       "      <td>regular</td>\n",
       "      <td>49 - 41</td>\n",
       "      <td>2006 - 2007</td>\n",
       "      <td>1</td>\n",
       "      <td>8:22</td>\n",
       "      <td>2.0</td>\n",
       "    </tr>\n",
       "    <tr>\n",
       "      <th>1696</th>\n",
       "      <td>109 - 95</td>\n",
       "      <td>IND - NY</td>\n",
       "      <td>261104018.0</td>\n",
       "      <td>4.0</td>\n",
       "      <td>David Harrison makes free throw 2 of 2</td>\n",
       "      <td>David Harrison</td>\n",
       "      <td>regular</td>\n",
       "      <td>109 - 95</td>\n",
       "      <td>2006 - 2007</td>\n",
       "      <td>1</td>\n",
       "      <td>0:32</td>\n",
       "      <td>2.0</td>\n",
       "    </tr>\n",
       "    <tr>\n",
       "      <th>1836</th>\n",
       "      <td>88 - 92</td>\n",
       "      <td>CLE - CHA</td>\n",
       "      <td>261104030.0</td>\n",
       "      <td>1.0</td>\n",
       "      <td>LeBron James makes free throw 1 of 2</td>\n",
       "      <td>LeBron James</td>\n",
       "      <td>regular</td>\n",
       "      <td>28 - 18</td>\n",
       "      <td>2006 - 2007</td>\n",
       "      <td>1</td>\n",
       "      <td>0:13</td>\n",
       "      <td>1.0</td>\n",
       "    </tr>\n",
       "    <tr>\n",
       "      <th>2210</th>\n",
       "      <td>107 - 104</td>\n",
       "      <td>GS - DAL</td>\n",
       "      <td>261106006.0</td>\n",
       "      <td>4.0</td>\n",
       "      <td>Jason Richardson makes free throw 2 of 2</td>\n",
       "      <td>Jason Richardson</td>\n",
       "      <td>regular</td>\n",
       "      <td>101 - 97</td>\n",
       "      <td>2006 - 2007</td>\n",
       "      <td>1</td>\n",
       "      <td>4:01</td>\n",
       "      <td>2.0</td>\n",
       "    </tr>\n",
       "  </tbody>\n",
       "</table>\n",
       "</div>"
      ],
      "text/plain": [
       "     end_result       game      game_id  period  \\\n",
       "337    92 - 102   TOR - NJ  261101017.0     1.0   \n",
       "660   118 - 117   NY - MEM  261101029.0     4.0   \n",
       "721    106 - 99  IND - CHA  261101030.0     2.0   \n",
       "774     97 - 91   SA - DAL  261102006.0     2.0   \n",
       "1098   89 - 102   POR - GS  261103009.0     3.0   \n",
       "1367    88 - 81   CLE - SA  261103024.0     1.0   \n",
       "1385    88 - 81   CLE - SA  261103024.0     3.0   \n",
       "1696   109 - 95   IND - NY  261104018.0     4.0   \n",
       "1836    88 - 92  CLE - CHA  261104030.0     1.0   \n",
       "2210  107 - 104   GS - DAL  261106006.0     4.0   \n",
       "\n",
       "                                             play              player  \\\n",
       "337       Bostjan Nachbar makes free throw 2 of 2     Bostjan Nachbar   \n",
       "660        Jamal Crawford makes free throw 2 of 2      Jamal Crawford   \n",
       "721   Othella Harrington misses free throw 2 of 2  Othella Harrington   \n",
       "774        Dirk Nowitzki misses free throw 2 of 2       Dirk Nowitzki   \n",
       "1098     Andris Biedrins misses free throw 1 of 2     Andris Biedrins   \n",
       "1367         LeBron James makes free throw 1 of 2        LeBron James   \n",
       "1385          Tony Parker makes free throw 2 of 2         Tony Parker   \n",
       "1696       David Harrison makes free throw 2 of 2      David Harrison   \n",
       "1836         LeBron James makes free throw 1 of 2        LeBron James   \n",
       "2210     Jason Richardson makes free throw 2 of 2    Jason Richardson   \n",
       "\n",
       "     playoffs     score       season  shot_made   time  First_Second  \n",
       "337   regular   16 - 18  2006 - 2007          1   4:16           2.0  \n",
       "660   regular   78 - 63  2006 - 2007          1  10:30           2.0  \n",
       "721   regular   37 - 42  2006 - 2007          0   4:24           2.0  \n",
       "774   regular   34 - 41  2006 - 2007          0   7:00           2.0  \n",
       "1098  regular   60 - 70  2006 - 2007          0   1:07           1.0  \n",
       "1367  regular   22 - 18  2006 - 2007          1   0:44           1.0  \n",
       "1385  regular   49 - 41  2006 - 2007          1   8:22           2.0  \n",
       "1696  regular  109 - 95  2006 - 2007          1   0:32           2.0  \n",
       "1836  regular   28 - 18  2006 - 2007          1   0:13           1.0  \n",
       "2210  regular  101 - 97  2006 - 2007          1   4:01           2.0  "
      ]
     },
     "execution_count": 26,
     "metadata": {},
     "output_type": "execute_result"
    }
   ],
   "source": [
    "pairs.loc[bad_indeces[0:10]]"
   ]
  },
  {
   "cell_type": "code",
   "execution_count": 27,
   "metadata": {},
   "outputs": [
    {
     "name": "stdout",
     "output_type": "stream",
     "text": [
      "0\n"
     ]
    },
    {
     "data": {
      "text/plain": [
       "1068"
      ]
     },
     "execution_count": 27,
     "metadata": {},
     "output_type": "execute_result"
    }
   ],
   "source": [
    "#Testing removing flagrants\n",
    "\n",
    "test=pairs\n",
    "test=test[~test.play.str.contains(\"flagrant\")]\n",
    "print(sum(test.play.str.contains(\"flagrant\")))\n",
    "test=test.reset_index(drop=True)\n",
    "counter=0\n",
    "bad_indeces=[]\n",
    "for x in range(0,test.shape[0]-1):\n",
    "    if(test.at[x,'First_Second']==test.at[x+1,'First_Second']):\n",
    "        counter=counter+1\n",
    "        bad_indeces.append(x)\n",
    "counter  \n",
    "\n"
   ]
  },
  {
   "cell_type": "code",
   "execution_count": 28,
   "metadata": {},
   "outputs": [],
   "source": [
    "#Most look like this\n",
    "bad_indeces[0:5]\n",
    "test[1362:1365]\n",
    "test=test.drop(test.index[bad_indeces])\n",
    "test=test.reset_index(drop=True)"
   ]
  },
  {
   "cell_type": "code",
   "execution_count": 29,
   "metadata": {},
   "outputs": [],
   "source": [
    "counter=0\n",
    "bad_indeces=[]\n",
    "for x in range(0,test.shape[0]-1):\n",
    "    if(test.at[x,'First_Second']==test.at[x+1,'First_Second']):\n",
    "        counter=counter+1\n",
    "        "
   ]
  },
  {
   "cell_type": "code",
   "execution_count": 30,
   "metadata": {},
   "outputs": [
    {
     "data": {
      "text/plain": [
       "0"
      ]
     },
     "execution_count": 30,
     "metadata": {},
     "output_type": "execute_result"
    }
   ],
   "source": [
    "counter"
   ]
  },
  {
   "cell_type": "code",
   "execution_count": 31,
   "metadata": {},
   "outputs": [
    {
     "data": {
      "text/html": [
       "<div>\n",
       "<style scoped>\n",
       "    .dataframe tbody tr th:only-of-type {\n",
       "        vertical-align: middle;\n",
       "    }\n",
       "\n",
       "    .dataframe tbody tr th {\n",
       "        vertical-align: top;\n",
       "    }\n",
       "\n",
       "    .dataframe thead th {\n",
       "        text-align: right;\n",
       "    }\n",
       "</style>\n",
       "<table border=\"1\" class=\"dataframe\">\n",
       "  <thead>\n",
       "    <tr style=\"text-align: right;\">\n",
       "      <th></th>\n",
       "      <th>end_result</th>\n",
       "      <th>game</th>\n",
       "      <th>game_id</th>\n",
       "      <th>period</th>\n",
       "      <th>play</th>\n",
       "      <th>player</th>\n",
       "      <th>playoffs</th>\n",
       "      <th>score</th>\n",
       "      <th>season</th>\n",
       "      <th>shot_made</th>\n",
       "      <th>time</th>\n",
       "      <th>First_Second</th>\n",
       "    </tr>\n",
       "  </thead>\n",
       "  <tbody>\n",
       "    <tr>\n",
       "      <th>0</th>\n",
       "      <td>106 - 114</td>\n",
       "      <td>PHX - LAL</td>\n",
       "      <td>261031013.0</td>\n",
       "      <td>1.0</td>\n",
       "      <td>Andrew Bynum makes free throw 1 of 2</td>\n",
       "      <td>Andrew Bynum</td>\n",
       "      <td>regular</td>\n",
       "      <td>0 - 1</td>\n",
       "      <td>2006 - 2007</td>\n",
       "      <td>1</td>\n",
       "      <td>11:45</td>\n",
       "      <td>1.0</td>\n",
       "    </tr>\n",
       "    <tr>\n",
       "      <th>1</th>\n",
       "      <td>106 - 114</td>\n",
       "      <td>PHX - LAL</td>\n",
       "      <td>261031013.0</td>\n",
       "      <td>1.0</td>\n",
       "      <td>Andrew Bynum makes free throw 2 of 2</td>\n",
       "      <td>Andrew Bynum</td>\n",
       "      <td>regular</td>\n",
       "      <td>0 - 2</td>\n",
       "      <td>2006 - 2007</td>\n",
       "      <td>1</td>\n",
       "      <td>11:45</td>\n",
       "      <td>2.0</td>\n",
       "    </tr>\n",
       "    <tr>\n",
       "      <th>2</th>\n",
       "      <td>106 - 114</td>\n",
       "      <td>PHX - LAL</td>\n",
       "      <td>261031013.0</td>\n",
       "      <td>1.0</td>\n",
       "      <td>Andrew Bynum makes free throw 1 of 2</td>\n",
       "      <td>Andrew Bynum</td>\n",
       "      <td>regular</td>\n",
       "      <td>18 - 12</td>\n",
       "      <td>2006 - 2007</td>\n",
       "      <td>1</td>\n",
       "      <td>7:26</td>\n",
       "      <td>1.0</td>\n",
       "    </tr>\n",
       "    <tr>\n",
       "      <th>3</th>\n",
       "      <td>106 - 114</td>\n",
       "      <td>PHX - LAL</td>\n",
       "      <td>261031013.0</td>\n",
       "      <td>1.0</td>\n",
       "      <td>Andrew Bynum misses free throw 2 of 2</td>\n",
       "      <td>Andrew Bynum</td>\n",
       "      <td>regular</td>\n",
       "      <td>18 - 12</td>\n",
       "      <td>2006 - 2007</td>\n",
       "      <td>0</td>\n",
       "      <td>7:26</td>\n",
       "      <td>2.0</td>\n",
       "    </tr>\n",
       "    <tr>\n",
       "      <th>4</th>\n",
       "      <td>106 - 114</td>\n",
       "      <td>PHX - LAL</td>\n",
       "      <td>261031013.0</td>\n",
       "      <td>1.0</td>\n",
       "      <td>Amare Stoudemire makes free throw 1 of 2</td>\n",
       "      <td>Amare Stoudemire</td>\n",
       "      <td>regular</td>\n",
       "      <td>33 - 20</td>\n",
       "      <td>2006 - 2007</td>\n",
       "      <td>1</td>\n",
       "      <td>3:15</td>\n",
       "      <td>1.0</td>\n",
       "    </tr>\n",
       "  </tbody>\n",
       "</table>\n",
       "</div>"
      ],
      "text/plain": [
       "  end_result       game      game_id  period  \\\n",
       "0  106 - 114  PHX - LAL  261031013.0     1.0   \n",
       "1  106 - 114  PHX - LAL  261031013.0     1.0   \n",
       "2  106 - 114  PHX - LAL  261031013.0     1.0   \n",
       "3  106 - 114  PHX - LAL  261031013.0     1.0   \n",
       "4  106 - 114  PHX - LAL  261031013.0     1.0   \n",
       "\n",
       "                                       play            player playoffs  \\\n",
       "0      Andrew Bynum makes free throw 1 of 2      Andrew Bynum  regular   \n",
       "1      Andrew Bynum makes free throw 2 of 2      Andrew Bynum  regular   \n",
       "2      Andrew Bynum makes free throw 1 of 2      Andrew Bynum  regular   \n",
       "3     Andrew Bynum misses free throw 2 of 2      Andrew Bynum  regular   \n",
       "4  Amare Stoudemire makes free throw 1 of 2  Amare Stoudemire  regular   \n",
       "\n",
       "     score       season  shot_made   time  First_Second  \n",
       "0    0 - 1  2006 - 2007          1  11:45           1.0  \n",
       "1    0 - 2  2006 - 2007          1  11:45           2.0  \n",
       "2  18 - 12  2006 - 2007          1   7:26           1.0  \n",
       "3  18 - 12  2006 - 2007          0   7:26           2.0  \n",
       "4  33 - 20  2006 - 2007          1   3:15           1.0  "
      ]
     },
     "execution_count": 31,
     "metadata": {},
     "output_type": "execute_result"
    }
   ],
   "source": [
    "test.head()"
   ]
  },
  {
   "cell_type": "code",
   "execution_count": 32,
   "metadata": {},
   "outputs": [
    {
     "data": {
      "text/plain": [
       "(263307, 12)"
      ]
     },
     "execution_count": 32,
     "metadata": {},
     "output_type": "execute_result"
    }
   ],
   "source": [
    "#Slicing to make a frame for even and odd shots\n",
    "shot1=test.iloc[::2]\n",
    "shot1.shape\n",
    "shot2=test.iloc[1::2]\n",
    "shot2.shape"
   ]
  },
  {
   "cell_type": "code",
   "execution_count": 33,
   "metadata": {},
   "outputs": [],
   "source": [
    "# make sure there are no second shots in the first shot dataframe\n",
    "i=0\n",
    "counter=0\n",
    "while  i<52610:\n",
    "    if shot1.at[i,'First_Second']==2:\n",
    "        counter=counter+1\n",
    "    i=i+2    \n"
   ]
  },
  {
   "cell_type": "code",
   "execution_count": 34,
   "metadata": {},
   "outputs": [
    {
     "data": {
      "text/plain": [
       "0"
      ]
     },
     "execution_count": 34,
     "metadata": {},
     "output_type": "execute_result"
    }
   ],
   "source": [
    "counter #it's good!"
   ]
  },
  {
   "cell_type": "code",
   "execution_count": 35,
   "metadata": {},
   "outputs": [],
   "source": [
    "#reset indices so shot1 and shot 2 line up with the same index\n",
    "shot1=shot1.reset_index(drop=True) \n",
    "shot2=shot2.reset_index(drop=True)"
   ]
  },
  {
   "cell_type": "code",
   "execution_count": 47,
   "metadata": {},
   "outputs": [
    {
     "name": "stdout",
     "output_type": "stream",
     "text": [
      "Anthony Carter makes free throw 1 of 2\n",
      "Anthony Carter makes free throw 2 of 2\n",
      "Joe Johnson makes free throw 1 of 2\n",
      "Joe Johnson makes free throw 2 of 2\n"
     ]
    }
   ],
   "source": [
    "#sample to see if things line up\n",
    "print(shot1.loc[67890].play)\n",
    "print(shot2.loc[67890].play)\n",
    "print(shot1.loc[56000].play)\n",
    "print(shot2.loc[56000].play)\n",
    "#nice they do"
   ]
  },
  {
   "cell_type": "code",
   "execution_count": 37,
   "metadata": {},
   "outputs": [],
   "source": [
    "#count how many times people missed 1st and made 2nd\n",
    "miss1make2=0\n",
    "for x in range(0,shot1.shape[0]):\n",
    "    if ((shot1.at[x,'shot_made']==0) & (shot2.at[x,'shot_made']==1)):\n",
    "        miss1make2=miss1make2+1\n",
    "\n",
    "#count how many times people missed 1st       \n",
    "miss1=0\n",
    "for x in range(0,shot1.shape[0]):\n",
    "    if(shot1.at[x,'shot_made']==0):\n",
    "        miss1=miss1+1"
   ]
  },
  {
   "cell_type": "code",
   "execution_count": 38,
   "metadata": {},
   "outputs": [
    {
     "data": {
      "text/plain": [
       "0.7309641037384783"
      ]
     },
     "execution_count": 38,
     "metadata": {},
     "output_type": "execute_result"
    }
   ],
   "source": [
    "miss1make2/miss1 #missed1 made 2nd percentage"
   ]
  },
  {
   "cell_type": "markdown",
   "metadata": {},
   "source": [
    "### NEXT:find 'expected' free throw percentage for second shots based on player names "
   ]
  },
  {
   "cell_type": "code",
   "execution_count": 96,
   "metadata": {},
   "outputs": [
    {
     "data": {
      "text/plain": [
       "['A.J. Price', 'Aaron Brooks', 'Aaron Gordon', 'Aaron Gray', 'Aaron Harrison']"
      ]
     },
     "execution_count": 96,
     "metadata": {},
     "output_type": "execute_result"
    }
   ],
   "source": [
    "\n",
    "names=list(set(shot1.player)) #get a list of unique names\n",
    "names.sort()\n",
    "names[0:5]"
   ]
  },
  {
   "cell_type": "code",
   "execution_count": 97,
   "metadata": {},
   "outputs": [],
   "source": [
    "names=pd.Series(names).astype(str) #convert list of names into a dataframe\n",
    "names=names.to_frame()\n",
    "names.columns=['player']"
   ]
  },
  {
   "cell_type": "code",
   "execution_count": 98,
   "metadata": {},
   "outputs": [
    {
     "data": {
      "text/html": [
       "<div>\n",
       "<style scoped>\n",
       "    .dataframe tbody tr th:only-of-type {\n",
       "        vertical-align: middle;\n",
       "    }\n",
       "\n",
       "    .dataframe tbody tr th {\n",
       "        vertical-align: top;\n",
       "    }\n",
       "\n",
       "    .dataframe thead th {\n",
       "        text-align: right;\n",
       "    }\n",
       "</style>\n",
       "<table border=\"1\" class=\"dataframe\">\n",
       "  <thead>\n",
       "    <tr style=\"text-align: right;\">\n",
       "      <th></th>\n",
       "      <th>player</th>\n",
       "    </tr>\n",
       "  </thead>\n",
       "  <tbody>\n",
       "    <tr>\n",
       "      <th>0</th>\n",
       "      <td>A.J. Price</td>\n",
       "    </tr>\n",
       "    <tr>\n",
       "      <th>1</th>\n",
       "      <td>Aaron Brooks</td>\n",
       "    </tr>\n",
       "    <tr>\n",
       "      <th>2</th>\n",
       "      <td>Aaron Gordon</td>\n",
       "    </tr>\n",
       "    <tr>\n",
       "      <th>3</th>\n",
       "      <td>Aaron Gray</td>\n",
       "    </tr>\n",
       "    <tr>\n",
       "      <th>4</th>\n",
       "      <td>Aaron Harrison</td>\n",
       "    </tr>\n",
       "  </tbody>\n",
       "</table>\n",
       "</div>"
      ],
      "text/plain": [
       "           player\n",
       "0      A.J. Price\n",
       "1    Aaron Brooks\n",
       "2    Aaron Gordon\n",
       "3      Aaron Gray\n",
       "4  Aaron Harrison"
      ]
     },
     "execution_count": 98,
     "metadata": {},
     "output_type": "execute_result"
    }
   ],
   "source": [
    "names.head()"
   ]
  },
  {
   "cell_type": "markdown",
   "metadata": {},
   "source": []
  },
  {
   "cell_type": "code",
   "execution_count": 99,
   "metadata": {},
   "outputs": [
    {
     "data": {
      "text/html": [
       "<div>\n",
       "<style scoped>\n",
       "    .dataframe tbody tr th:only-of-type {\n",
       "        vertical-align: middle;\n",
       "    }\n",
       "\n",
       "    .dataframe tbody tr th {\n",
       "        vertical-align: top;\n",
       "    }\n",
       "\n",
       "    .dataframe thead th {\n",
       "        text-align: right;\n",
       "    }\n",
       "</style>\n",
       "<table border=\"1\" class=\"dataframe\">\n",
       "  <thead>\n",
       "    <tr style=\"text-align: right;\">\n",
       "      <th></th>\n",
       "      <th>player</th>\n",
       "      <th>percentage</th>\n",
       "    </tr>\n",
       "  </thead>\n",
       "  <tbody>\n",
       "    <tr>\n",
       "      <th>0</th>\n",
       "      <td>A.J. Price</td>\n",
       "      <td>NaN</td>\n",
       "    </tr>\n",
       "    <tr>\n",
       "      <th>1</th>\n",
       "      <td>Aaron Brooks</td>\n",
       "      <td>NaN</td>\n",
       "    </tr>\n",
       "    <tr>\n",
       "      <th>2</th>\n",
       "      <td>Aaron Gordon</td>\n",
       "      <td>NaN</td>\n",
       "    </tr>\n",
       "    <tr>\n",
       "      <th>3</th>\n",
       "      <td>Aaron Gray</td>\n",
       "      <td>NaN</td>\n",
       "    </tr>\n",
       "    <tr>\n",
       "      <th>4</th>\n",
       "      <td>Aaron Harrison</td>\n",
       "      <td>NaN</td>\n",
       "    </tr>\n",
       "  </tbody>\n",
       "</table>\n",
       "</div>"
      ],
      "text/plain": [
       "           player  percentage\n",
       "0      A.J. Price         NaN\n",
       "1    Aaron Brooks         NaN\n",
       "2    Aaron Gordon         NaN\n",
       "3      Aaron Gray         NaN\n",
       "4  Aaron Harrison         NaN"
      ]
     },
     "execution_count": 99,
     "metadata": {},
     "output_type": "execute_result"
    }
   ],
   "source": [
    "#let's add a free throw column\n",
    "names[\"percentage\"] = np.nan\n",
    "names.head()"
   ]
  },
  {
   "cell_type": "markdown",
   "metadata": {},
   "source": [
    "### We need to find everyone's shot percentage so we can get an expected free throw percentage"
   ]
  },
  {
   "cell_type": "code",
   "execution_count": 101,
   "metadata": {},
   "outputs": [],
   "source": [
    "for x in range(0,len(names)):\n",
    "    names.at[x,'percentage']=sum(test.play.str.contains(names.at[x,'player'])&test.shot_made==1)/sum(test.play.str.contains(names.at[x,'player']))\n",
    "        "
   ]
  },
  {
   "cell_type": "code",
   "execution_count": 102,
   "metadata": {},
   "outputs": [
    {
     "data": {
      "text/html": [
       "<div>\n",
       "<style scoped>\n",
       "    .dataframe tbody tr th:only-of-type {\n",
       "        vertical-align: middle;\n",
       "    }\n",
       "\n",
       "    .dataframe tbody tr th {\n",
       "        vertical-align: top;\n",
       "    }\n",
       "\n",
       "    .dataframe thead th {\n",
       "        text-align: right;\n",
       "    }\n",
       "</style>\n",
       "<table border=\"1\" class=\"dataframe\">\n",
       "  <thead>\n",
       "    <tr style=\"text-align: right;\">\n",
       "      <th></th>\n",
       "      <th>player</th>\n",
       "      <th>percentage</th>\n",
       "    </tr>\n",
       "  </thead>\n",
       "  <tbody>\n",
       "    <tr>\n",
       "      <th>1</th>\n",
       "      <td>Aaron Brooks</td>\n",
       "      <td>0.828070</td>\n",
       "    </tr>\n",
       "    <tr>\n",
       "      <th>2</th>\n",
       "      <td>Aaron Gordon</td>\n",
       "      <td>0.687783</td>\n",
       "    </tr>\n",
       "    <tr>\n",
       "      <th>3</th>\n",
       "      <td>Aaron Gray</td>\n",
       "      <td>0.559211</td>\n",
       "    </tr>\n",
       "    <tr>\n",
       "      <th>4</th>\n",
       "      <td>Aaron Harrison</td>\n",
       "      <td>0.416667</td>\n",
       "    </tr>\n",
       "    <tr>\n",
       "      <th>5</th>\n",
       "      <td>Aaron Williams</td>\n",
       "      <td>0.805556</td>\n",
       "    </tr>\n",
       "  </tbody>\n",
       "</table>\n",
       "</div>"
      ],
      "text/plain": [
       "           player  percentage\n",
       "1    Aaron Brooks    0.828070\n",
       "2    Aaron Gordon    0.687783\n",
       "3      Aaron Gray    0.559211\n",
       "4  Aaron Harrison    0.416667\n",
       "5  Aaron Williams    0.805556"
      ]
     },
     "execution_count": 102,
     "metadata": {},
     "output_type": "execute_result"
    }
   ],
   "source": [
    "names[1:6]"
   ]
  },
  {
   "cell_type": "markdown",
   "metadata": {},
   "source": [
    "### Great! Now that we have everyone's free-throw percentage, we can go ahead and find the 'expected' percentage for second shots after missing the first. "
   ]
  },
  {
   "cell_type": "code",
   "execution_count": 106,
   "metadata": {},
   "outputs": [
    {
     "data": {
      "text/html": [
       "<div>\n",
       "<style scoped>\n",
       "    .dataframe tbody tr th:only-of-type {\n",
       "        vertical-align: middle;\n",
       "    }\n",
       "\n",
       "    .dataframe tbody tr th {\n",
       "        vertical-align: top;\n",
       "    }\n",
       "\n",
       "    .dataframe thead th {\n",
       "        text-align: right;\n",
       "    }\n",
       "</style>\n",
       "<table border=\"1\" class=\"dataframe\">\n",
       "  <thead>\n",
       "    <tr style=\"text-align: right;\">\n",
       "      <th></th>\n",
       "      <th>end_result</th>\n",
       "      <th>game</th>\n",
       "      <th>game_id</th>\n",
       "      <th>period</th>\n",
       "      <th>play</th>\n",
       "      <th>player</th>\n",
       "      <th>playoffs</th>\n",
       "      <th>score</th>\n",
       "      <th>season</th>\n",
       "      <th>shot_made</th>\n",
       "      <th>time</th>\n",
       "      <th>First_Second</th>\n",
       "      <th>shot_made_2</th>\n",
       "    </tr>\n",
       "  </thead>\n",
       "  <tbody>\n",
       "    <tr>\n",
       "      <th>0</th>\n",
       "      <td>106 - 114</td>\n",
       "      <td>PHX - LAL</td>\n",
       "      <td>261031013.0</td>\n",
       "      <td>1.0</td>\n",
       "      <td>Andrew Bynum makes free throw 1 of 2</td>\n",
       "      <td>Andrew Bynum</td>\n",
       "      <td>regular</td>\n",
       "      <td>0 - 1</td>\n",
       "      <td>2006 - 2007</td>\n",
       "      <td>1</td>\n",
       "      <td>11:45</td>\n",
       "      <td>1.0</td>\n",
       "      <td>1</td>\n",
       "    </tr>\n",
       "    <tr>\n",
       "      <th>1</th>\n",
       "      <td>106 - 114</td>\n",
       "      <td>PHX - LAL</td>\n",
       "      <td>261031013.0</td>\n",
       "      <td>1.0</td>\n",
       "      <td>Andrew Bynum makes free throw 1 of 2</td>\n",
       "      <td>Andrew Bynum</td>\n",
       "      <td>regular</td>\n",
       "      <td>18 - 12</td>\n",
       "      <td>2006 - 2007</td>\n",
       "      <td>1</td>\n",
       "      <td>7:26</td>\n",
       "      <td>1.0</td>\n",
       "      <td>0</td>\n",
       "    </tr>\n",
       "    <tr>\n",
       "      <th>2</th>\n",
       "      <td>106 - 114</td>\n",
       "      <td>PHX - LAL</td>\n",
       "      <td>261031013.0</td>\n",
       "      <td>1.0</td>\n",
       "      <td>Amare Stoudemire makes free throw 1 of 2</td>\n",
       "      <td>Amare Stoudemire</td>\n",
       "      <td>regular</td>\n",
       "      <td>33 - 20</td>\n",
       "      <td>2006 - 2007</td>\n",
       "      <td>1</td>\n",
       "      <td>3:15</td>\n",
       "      <td>1.0</td>\n",
       "      <td>1</td>\n",
       "    </tr>\n",
       "    <tr>\n",
       "      <th>3</th>\n",
       "      <td>106 - 114</td>\n",
       "      <td>PHX - LAL</td>\n",
       "      <td>261031013.0</td>\n",
       "      <td>2.0</td>\n",
       "      <td>Leandro Barbosa misses free throw 1 of 2</td>\n",
       "      <td>Leandro Barbosa</td>\n",
       "      <td>regular</td>\n",
       "      <td>43 - 29</td>\n",
       "      <td>2006 - 2007</td>\n",
       "      <td>0</td>\n",
       "      <td>10:52</td>\n",
       "      <td>1.0</td>\n",
       "      <td>1</td>\n",
       "    </tr>\n",
       "    <tr>\n",
       "      <th>4</th>\n",
       "      <td>106 - 114</td>\n",
       "      <td>PHX - LAL</td>\n",
       "      <td>261031013.0</td>\n",
       "      <td>2.0</td>\n",
       "      <td>Lamar Odom makes free throw 1 of 2</td>\n",
       "      <td>Lamar Odom</td>\n",
       "      <td>regular</td>\n",
       "      <td>44 - 30</td>\n",
       "      <td>2006 - 2007</td>\n",
       "      <td>1</td>\n",
       "      <td>10:37</td>\n",
       "      <td>1.0</td>\n",
       "      <td>1</td>\n",
       "    </tr>\n",
       "  </tbody>\n",
       "</table>\n",
       "</div>"
      ],
      "text/plain": [
       "  end_result       game      game_id  period  \\\n",
       "0  106 - 114  PHX - LAL  261031013.0     1.0   \n",
       "1  106 - 114  PHX - LAL  261031013.0     1.0   \n",
       "2  106 - 114  PHX - LAL  261031013.0     1.0   \n",
       "3  106 - 114  PHX - LAL  261031013.0     2.0   \n",
       "4  106 - 114  PHX - LAL  261031013.0     2.0   \n",
       "\n",
       "                                       play            player playoffs  \\\n",
       "0      Andrew Bynum makes free throw 1 of 2      Andrew Bynum  regular   \n",
       "1      Andrew Bynum makes free throw 1 of 2      Andrew Bynum  regular   \n",
       "2  Amare Stoudemire makes free throw 1 of 2  Amare Stoudemire  regular   \n",
       "3  Leandro Barbosa misses free throw 1 of 2   Leandro Barbosa  regular   \n",
       "4        Lamar Odom makes free throw 1 of 2        Lamar Odom  regular   \n",
       "\n",
       "     score       season  shot_made   time  First_Second  shot_made_2  \n",
       "0    0 - 1  2006 - 2007          1  11:45           1.0            1  \n",
       "1  18 - 12  2006 - 2007          1   7:26           1.0            0  \n",
       "2  33 - 20  2006 - 2007          1   3:15           1.0            1  \n",
       "3  43 - 29  2006 - 2007          0  10:52           1.0            1  \n",
       "4  44 - 30  2006 - 2007          1  10:37           1.0            1  "
      ]
     },
     "execution_count": 106,
     "metadata": {},
     "output_type": "execute_result"
    }
   ],
   "source": [
    "#This dataframe has their first and second shot in one row\n",
    "bothshots=pd.concat([shot1,shot2.shot_made],axis=1)\n",
    "bothshots.columns=['end_result','game','game_id','period','play','player','playoffs','score','season','shot_made','time','First_Second','shot_made_2']\n",
    "bothshots.head()"
   ]
  },
  {
   "cell_type": "code",
   "execution_count": 108,
   "metadata": {},
   "outputs": [
    {
     "data": {
      "text/html": [
       "<div>\n",
       "<style scoped>\n",
       "    .dataframe tbody tr th:only-of-type {\n",
       "        vertical-align: middle;\n",
       "    }\n",
       "\n",
       "    .dataframe tbody tr th {\n",
       "        vertical-align: top;\n",
       "    }\n",
       "\n",
       "    .dataframe thead th {\n",
       "        text-align: right;\n",
       "    }\n",
       "</style>\n",
       "<table border=\"1\" class=\"dataframe\">\n",
       "  <thead>\n",
       "    <tr style=\"text-align: right;\">\n",
       "      <th></th>\n",
       "      <th>player</th>\n",
       "      <th>percentage</th>\n",
       "      <th>end_result</th>\n",
       "      <th>game</th>\n",
       "      <th>game_id</th>\n",
       "      <th>period</th>\n",
       "      <th>play</th>\n",
       "      <th>playoffs</th>\n",
       "      <th>score</th>\n",
       "      <th>season</th>\n",
       "      <th>shot_made</th>\n",
       "      <th>time</th>\n",
       "      <th>First_Second</th>\n",
       "      <th>shot_made_2</th>\n",
       "    </tr>\n",
       "  </thead>\n",
       "  <tbody>\n",
       "    <tr>\n",
       "      <th>0</th>\n",
       "      <td>A.J. Price</td>\n",
       "      <td>0.761905</td>\n",
       "      <td>94 - 108</td>\n",
       "      <td>GS - IND</td>\n",
       "      <td>291111011.0</td>\n",
       "      <td>4.0</td>\n",
       "      <td>A.J. Price makes free throw 1 of 2</td>\n",
       "      <td>regular</td>\n",
       "      <td>75 - 92</td>\n",
       "      <td>2009 - 2010</td>\n",
       "      <td>1</td>\n",
       "      <td>9:14</td>\n",
       "      <td>1.0</td>\n",
       "      <td>0</td>\n",
       "    </tr>\n",
       "    <tr>\n",
       "      <th>1</th>\n",
       "      <td>A.J. Price</td>\n",
       "      <td>0.761905</td>\n",
       "      <td>110 - 98</td>\n",
       "      <td>ATL - IND</td>\n",
       "      <td>291226011.0</td>\n",
       "      <td>4.0</td>\n",
       "      <td>A.J. Price makes free throw 1 of 2</td>\n",
       "      <td>regular</td>\n",
       "      <td>108 - 96</td>\n",
       "      <td>2009 - 2010</td>\n",
       "      <td>1</td>\n",
       "      <td>0:40</td>\n",
       "      <td>1.0</td>\n",
       "      <td>1</td>\n",
       "    </tr>\n",
       "    <tr>\n",
       "      <th>2</th>\n",
       "      <td>A.J. Price</td>\n",
       "      <td>0.761905</td>\n",
       "      <td>80 - 114</td>\n",
       "      <td>IND - MIA</td>\n",
       "      <td>291227014.0</td>\n",
       "      <td>4.0</td>\n",
       "      <td>A.J. Price makes free throw 1 of 2</td>\n",
       "      <td>regular</td>\n",
       "      <td>64 - 103</td>\n",
       "      <td>2009 - 2010</td>\n",
       "      <td>1</td>\n",
       "      <td>9:38</td>\n",
       "      <td>1.0</td>\n",
       "      <td>1</td>\n",
       "    </tr>\n",
       "    <tr>\n",
       "      <th>3</th>\n",
       "      <td>A.J. Price</td>\n",
       "      <td>0.761905</td>\n",
       "      <td>90 - 97</td>\n",
       "      <td>ORL - IND</td>\n",
       "      <td>300105011.0</td>\n",
       "      <td>1.0</td>\n",
       "      <td>A.J. Price makes free throw 1 of 2</td>\n",
       "      <td>regular</td>\n",
       "      <td>19 - 21</td>\n",
       "      <td>2009 - 2010</td>\n",
       "      <td>1</td>\n",
       "      <td>1:25</td>\n",
       "      <td>1.0</td>\n",
       "      <td>1</td>\n",
       "    </tr>\n",
       "    <tr>\n",
       "      <th>4</th>\n",
       "      <td>A.J. Price</td>\n",
       "      <td>0.761905</td>\n",
       "      <td>102 - 108</td>\n",
       "      <td>IND - OKC</td>\n",
       "      <td>300109025.0</td>\n",
       "      <td>4.0</td>\n",
       "      <td>A.J. Price makes free throw 1 of 2</td>\n",
       "      <td>regular</td>\n",
       "      <td>93 - 96</td>\n",
       "      <td>2009 - 2010</td>\n",
       "      <td>1</td>\n",
       "      <td>3:11</td>\n",
       "      <td>1.0</td>\n",
       "      <td>1</td>\n",
       "    </tr>\n",
       "  </tbody>\n",
       "</table>\n",
       "</div>"
      ],
      "text/plain": [
       "       player  percentage end_result       game      game_id  period  \\\n",
       "0  A.J. Price    0.761905   94 - 108   GS - IND  291111011.0     4.0   \n",
       "1  A.J. Price    0.761905   110 - 98  ATL - IND  291226011.0     4.0   \n",
       "2  A.J. Price    0.761905   80 - 114  IND - MIA  291227014.0     4.0   \n",
       "3  A.J. Price    0.761905    90 - 97  ORL - IND  300105011.0     1.0   \n",
       "4  A.J. Price    0.761905  102 - 108  IND - OKC  300109025.0     4.0   \n",
       "\n",
       "                                 play playoffs     score       season  \\\n",
       "0  A.J. Price makes free throw 1 of 2  regular   75 - 92  2009 - 2010   \n",
       "1  A.J. Price makes free throw 1 of 2  regular  108 - 96  2009 - 2010   \n",
       "2  A.J. Price makes free throw 1 of 2  regular  64 - 103  2009 - 2010   \n",
       "3  A.J. Price makes free throw 1 of 2  regular   19 - 21  2009 - 2010   \n",
       "4  A.J. Price makes free throw 1 of 2  regular   93 - 96  2009 - 2010   \n",
       "\n",
       "   shot_made  time  First_Second  shot_made_2  \n",
       "0          1  9:14           1.0            0  \n",
       "1          1  0:40           1.0            1  \n",
       "2          1  9:38           1.0            1  \n",
       "3          1  1:25           1.0            1  \n",
       "4          1  3:11           1.0            1  "
      ]
     },
     "execution_count": 108,
     "metadata": {},
     "output_type": "execute_result"
    }
   ],
   "source": [
    "#Let's add a column for shot percentage to the bothshots dataframe by merging with the 'names' dataframe\n",
    "bothshots=pd.merge(names,concattest,on='player')\n",
    "bothshots.head()"
   ]
  },
  {
   "cell_type": "code",
   "execution_count": 109,
   "metadata": {},
   "outputs": [
    {
     "name": "stdout",
     "output_type": "stream",
     "text": [
      "0.7226165347951603\n",
      "69868\n",
      "69868\n"
     ]
    }
   ],
   "source": [
    "counter=0\n",
    "percentageAdder=0\n",
    "for x in range(0,bothshots.shape[0]):\n",
    "    if bothshots.at[x,'shot_made']==0:\n",
    "        counter=counter+1\n",
    "        percentageAdder=percentageAdder+bothshots.at[x,'percentage']\n",
    "Expected_Percentage=percentageAdder/counter        \n",
    "print(Expected_Percentage)\n"
   ]
  },
  {
   "cell_type": "markdown",
   "metadata": {},
   "source": [
    "### Here it is! The expected Free throw percentage for second shots after missing the first is 72.26% The Actual percentage is 73.09%"
   ]
  }
 ],
 "metadata": {
  "kernelspec": {
   "display_name": "Python 3",
   "language": "python",
   "name": "python3"
  },
  "language_info": {
   "codemirror_mode": {
    "name": "ipython",
    "version": 3
   },
   "file_extension": ".py",
   "mimetype": "text/x-python",
   "name": "python",
   "nbconvert_exporter": "python",
   "pygments_lexer": "ipython3",
   "version": "3.6.5"
  }
 },
 "nbformat": 4,
 "nbformat_minor": 2
}
